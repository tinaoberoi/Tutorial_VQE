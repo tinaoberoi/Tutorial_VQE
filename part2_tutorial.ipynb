{
 "cells": [
  {
   "cell_type": "markdown",
   "metadata": {},
   "source": [
    "# Part 2 - Tutorial on Variational Eigen Solvers\n",
    "\n",
    "VQE belong to large class VQA. VQA is designed to classically optimize parameterized quantum circuits (pqc). Here PQCs are trainable machine models.\n",
    "\n",
    "<img src=\"./img/ml.png\" width=\"500\" height=\"500\" />"
   ]
  },
  {
   "cell_type": "markdown",
   "metadata": {},
   "source": [
    "So the thought behind VQAs is to train quantum computers like neural neworks, also known as parameterized quantum circuits.\n",
    "This structure or architecture of this parameterized circuit is also called ansatz. \n",
    "\n",
    "## What is Ansatz?\n",
    "\n",
    "Ansatz (educated guess) is in form of a quantum circuit. The focus of ansatz is to calculate the eigen values of the hermitian matrix. \n",
    "Some things to note when choosing ansatz:\n",
    "- The ansatz shouldnt be very deep, i.e the computational cost shouldnt be too intensive. \n",
    "- The ansatz shouldnt have too many paramters.\n",
    "  \n",
    "<img src=\"./img/vqa.png\" />"
   ]
  },
  {
   "cell_type": "markdown",
   "metadata": {},
   "source": [
    "In VQE the goal is to find the ground state of the system. Thus for this, we find parameter values that minimize the expectation values of  hamiltonian.\n",
    "\n",
    "## Why does VQE work?\n",
    "\n",
    "VQE works because of variational principle."
   ]
  },
  {
   "cell_type": "code",
   "execution_count": null,
   "metadata": {},
   "outputs": [],
   "source": []
  }
 ],
 "metadata": {
  "language_info": {
   "name": "python"
  },
  "orig_nbformat": 4
 },
 "nbformat": 4,
 "nbformat_minor": 2
}
