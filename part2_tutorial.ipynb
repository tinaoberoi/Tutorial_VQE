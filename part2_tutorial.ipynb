{
 "cells": [
  {
   "cell_type": "markdown",
   "metadata": {},
   "source": [
    "# Part 2 - Tutorial on Variational Eigen Solvers\n",
    "\n",
    "VQE belong to large class VQA. VQA is designed to classically optimize parameterized quantum circuits (pqc). Here PQCs are trainable machine models.\n",
    "\n",
    "<img src=\"./img/ml.png\" width=\"500\" height=\"500\" />"
   ]
  },
  {
   "cell_type": "markdown",
   "metadata": {},
   "source": [
    "So the thought behind VQAs is to train quantum computers like neural neworks, also known as parameterized quantum circuits.\n",
    "This structure or architecture of this parameterized circuit is also called ansatz. \n",
    "\n",
    "## What is Ansatz?\n",
    "\n",
    "Ansatz (educated guess) is in form of a quantum circuit. The focus of ansatz is to calculate the eigen values of the hermitian matrix. \n",
    "Some things to note when choosing ansatz:\n",
    "- The ansatz shouldnt be very deep, i.e the computational cost shouldnt be too intensive. \n",
    "- The ansatz shouldnt have too many paramters.\n",
    "  \n",
    "<img src=\"./img/vqa.png\" />"
   ]
  },
  {
   "cell_type": "markdown",
   "metadata": {},
   "source": [
    "In VQE the goal is to find the ground state of the system. Thus for this, we find parameter values that minimize the expectation values of  hamiltonian.\n",
    "\n",
    "## Why does VQE work?\n",
    "\n",
    "VQE works because of variational principle. Recall from the first part of this tutorial, \n",
    "\n",
    "$$\n",
    "\n",
    "\\hat H \\Psi = E \\Psi\n",
    "$$\n",
    "\n",
    "Where H is dependent on $V(x)$ potential energy of the system. We know the hamiltonian all we we now need is $\\Psi$ and $E$. \n",
    "But, There will be bunch of possible states \n",
    "\n",
    "<img src=\"./img/energy.png\" />"
   ]
  },
  {
   "cell_type": "markdown",
   "metadata": {},
   "source": [
    "Thus we will use approximation methods -> `variational principle`\n",
    "\n",
    "Variational principle allows us to find `E`. \n",
    "\n",
    "## But How?\n",
    "\n",
    "-  Pretend that I know the ground state wave function $\\Psi_{guess}$. This guess could be based on intition or some knowledge of the system.</li>\n",
    "- So now $ \\hat H |\\Psi_{guess}>$ =  $E_{guess}|\\Psi_{guess}>$\n",
    "- And $ <\\Psi_{guess}| \\hat H |\\Psi_{guess}>$ =  E_{guess}\n",
    "\n",
    "Lets take a look at our wave function, which will be of the form.\n",
    "\n",
    "$|\\Psi_{guess}> = c_{1}|\\Psi_{1}>  +   c_{2}|\\Psi_{2}> +  c_{3}|\\Psi_{3}> + ..... $\n",
    "\n",
    "$<\\Psi_{guess}| = c_{1}<\\Psi_{1}|  +   c_{2}<\\Psi_{2}| +  c_{3}<\\Psi_{3}| + ..... $\n",
    "\n",
    "And now, $E_{guess}$\n",
    "\n",
    "$E_{guess} = c1^{2} E_{1} + c2^{2} E_{2} + ....  $\n",
    "\n",
    "Since E1, is the ground state energy it brings us to\n",
    "\n",
    "$E_{guess} >= c1^{2} E_{1} + c2^{2} E_{1} + ....  $\n",
    "\n",
    "$E_{guess} >= E_{1} (c1^{2} + c2^{2}  + ....)$\n",
    "\n",
    "$E_{guess} >= E_{1} (1)$\n",
    "\n",
    "$E_{guess} >= E_{1}$\n",
    "\n",
    "Thus whatever $\\Psi_{guess}$ I choose, the above inequality will always hold true."
   ]
  },
  {
   "cell_type": "markdown",
   "metadata": {},
   "source": [
    "## Lets discuss the steps involved in VQE"
   ]
  },
  {
   "cell_type": "code",
   "execution_count": null,
   "metadata": {},
   "outputs": [],
   "source": []
  }
 ],
 "metadata": {
  "language_info": {
   "name": "python"
  },
  "orig_nbformat": 4
 },
 "nbformat": 4,
 "nbformat_minor": 2
}
