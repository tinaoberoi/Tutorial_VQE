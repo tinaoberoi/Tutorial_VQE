{
 "cells": [
  {
   "cell_type": "markdown",
   "metadata": {},
   "source": [
    "# Part 2 - Tutorial on Variational Eigen Solvers\n",
    "\n",
    "VQE belong to large class VQA. VQA is designed to classically optimize parameterized quantum circuits (pqc). Here PQCs are trainable machine models.\n",
    "\n",
    "<img src=\"./img/ml.png\" width=\"500\" height=\"500\" />"
   ]
  },
  {
   "cell_type": "markdown",
   "metadata": {},
   "source": [
    "So the thought behind VQAs is to train quantum computers like neural neworks, also known as parameterized quantum circuits.\n",
    "This structure or architecture of this parameterized circuit is also called ansatz. \n",
    "\n",
    "## What is Ansatz?\n",
    "\n",
    "Ansatz (educated guess) is in form of a quantum circuit. The focus of ansatz is to calculate the eigen values of the hermitian matrix. \n",
    "Some things to note when choosing ansatz:\n",
    "- The ansatz shouldnt be very deep, i.e the computational cost shouldnt be too intensive. \n",
    "- The ansatz shouldnt have too many paramters.\n",
    "  \n",
    "<img src=\"./img/vqa.png\" />"
   ]
  },
  {
   "cell_type": "markdown",
   "metadata": {},
   "source": [
    "In VQE the goal is to find the ground state of the system. Thus for this, we find parameter values that minimize the expectation values of  hamiltonian.\n",
    "\n",
    "## Why does VQE work?\n",
    "\n",
    "VQE works because of variational principle. Recall from the first part of this tutorial, \n",
    "\n",
    "$$\n",
    "\n",
    "\\hat H \\Psi = E \\Psi\n",
    "$$\n",
    "\n",
    "Where H is dependent on $V(x)$ potential energy of the system. We know the hamiltonian all we we now need is $\\Psi$ and $E$. \n",
    "But, There will be bunch of possible states \n",
    "\n",
    "<img src=\"./img/energy.png\" />"
   ]
  },
  {
   "cell_type": "markdown",
   "metadata": {},
   "source": [
    "Thus we will use approximation methods -> `variational principle`\n",
    "\n",
    "Variational principle allows us to find `E`. \n",
    "\n",
    "## But How?\n",
    "\n",
    "-  Pretend that I know the ground state wave function $\\Psi_{guess}$. This guess could be based on intition or some knowledge of the system.</li>\n",
    "- So now $ \\hat H |\\Psi_{guess}>$ =  $E_{guess}|\\Psi_{guess}>$\n",
    "- And $ <\\Psi_{guess}| \\hat H |\\Psi_{guess}>$ =  E_{guess}\n",
    "\n",
    "Lets take a look at our wave function, which will be of the form.\n",
    "\n",
    "$|\\Psi_{guess}> = c_{1}|\\Psi_{1}>  +   c_{2}|\\Psi_{2}> +  c_{3}|\\Psi_{3}> + ..... $\n",
    "\n",
    "$<\\Psi_{guess}| = c_{1}<\\Psi_{1}|  +   c_{2}<\\Psi_{2}| +  c_{3}<\\Psi_{3}| + ..... $\n",
    "\n",
    "And now, $E_{guess}$\n",
    "\n",
    "$E_{guess} = c1^{2} E_{1} + c2^{2} E_{2} + ....  $\n",
    "\n",
    "Since E1, is the ground state energy it brings us to\n",
    "\n",
    "$E_{guess} >= c1^{2} E_{1} + c2^{2} E_{1} + ....  $\n",
    "\n",
    "$E_{guess} >= E_{1} (c1^{2} + c2^{2}  + ....)$\n",
    "\n",
    "$E_{guess} >= E_{1} (1)$\n",
    "\n",
    "$E_{guess} >= E_{1}$\n",
    "\n",
    "Thus whatever $\\Psi_{guess}$ I choose, the above inequality will always hold true."
   ]
  },
  {
   "cell_type": "markdown",
   "metadata": {},
   "source": [
    "## Lets discuss the steps involved in VQE\n",
    "\n",
    "<ol>\n",
    "    <li>Provide a description of the Hamiltonian.</li>\n",
    "    <li>Determine the ground state, using a reference value as a benchmark.</li>\n",
    "    <li>Specify the parameters for the ansatz.</li>\n",
    "    <li>Define the ansatz itself.</li>\n",
    "    <li>Outline the measurement process:\n",
    "        <ol>\n",
    "            <li>Establish the circuit configuration.</li>\n",
    "            <li>Execute measurements on the quantum computer.</li>\n",
    "            <li>Calculate the expectation value based on the measurement results.</li>\n",
    "        </ol>\n",
    "    </li>\n",
    "    <li>In the classical segment, execute the optimization algorithm.</li>\n",
    "    <li>Obtain an estimate for the lowest eigenvalue and compare it to the reference value from step 2.</li>\n",
    "</ol>\n"
   ]
  },
  {
   "cell_type": "markdown",
   "metadata": {},
   "source": [
    "Lets understand this using a simple example.\n",
    "\n",
    "## Findinding interatomic distance between LiH \n",
    "\n",
    "So here we need to find the distance between the nuclei. \n",
    "\n",
    "The parameter that will vary in our parameterized circuit : The distance between nuclei.\n",
    "\n",
    "<img src=\"./img/bond_energy.png\" />\n",
    "\n",
    "The above figure shows the energy profile with distance.\n",
    "\n",
    "Approach: \n",
    "- At each distance compute the expectation value of hamiltonian. \n",
    "- The one with the least expectation value correspinds to the desired interatomic distance of molecules.\n",
    "- In this case creating an ansatz, will require some domain knowledge. Since mapping of molecules into qubits will take into account molecular geometry etc.\n",
    "- Let our initial guess be $D_{0}$\n",
    "\n",
    "<img src=\"./img/lih_example.png\" />\n",
    "\n",
    "- The optimization approach can vary from problem to problem. "
   ]
  },
  {
   "cell_type": "code",
   "execution_count": null,
   "metadata": {},
   "outputs": [],
   "source": []
  }
 ],
 "metadata": {
  "language_info": {
   "name": "python"
  },
  "orig_nbformat": 4
 },
 "nbformat": 4,
 "nbformat_minor": 2
}
