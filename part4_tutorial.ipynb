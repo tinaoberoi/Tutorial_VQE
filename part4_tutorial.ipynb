{
 "cells": [
  {
   "cell_type": "markdown",
   "metadata": {},
   "source": [
    "# QAOA : Application of VQE\n",
    "QAOA is known as a speical case of VQE.\n",
    "\n",
    "First lets understant some essential concepts:\n",
    "\n",
    "## Quadratic Programs \n",
    "Quadratic Programs are optimimzation problems with following characteristsics\n",
    "\n",
    "<ul>\n",
    "    <li>Have quadratic objective function </li>\n",
    "    <li>Have linear and quadratic constrainsts</li>\n",
    "</ul>\n",
    "\n",
    "Example:\n",
    "\n",
    "$  x^TQx + c^Tx $        (Quadratic objective function)\n",
    "$  Ax \\leq b $             (Linear constraint)\n",
    "$ z^TQ_ix + a_i ^T \\leq r_i$     (Quadratic constraint)\n",
    "\n",
    "QUBO (a special case of Quadratic Programs)\n",
    "![](./img/special_case.jpeg)\n",
    "<ul>\n",
    "    <li>Have quadratic objective function</li>\n",
    "    <li>No variable constrainsts</li>\n",
    "    <li>Binary optimization variables</li>\n",
    "</ul>"
   ]
  },
  {
   "cell_type": "code",
   "execution_count": null,
   "metadata": {},
   "outputs": [],
   "source": []
  }
 ],
 "metadata": {
  "language_info": {
   "name": "python"
  }
 },
 "nbformat": 4,
 "nbformat_minor": 2
}
