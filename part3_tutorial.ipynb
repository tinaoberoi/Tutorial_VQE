{
 "cells": [
  {
   "cell_type": "code",
   "execution_count": 80,
   "metadata": {},
   "outputs": [],
   "source": [
    "import numpy as np\n",
    "from numpy import pi\n",
    "from scipy.optimize import minimize_scalar, minimize\n",
    "import matplotlib.pyplot as plt\n",
    "from mpl_toolkits import mplot3d\n",
    "from matplotlib import cm\n",
    "import qiskit as qk\n",
    "from qiskit import BasicAer, execute\n",
    "from qiskit.quantum_info import SparsePauliOp\n",
    "from qiskit_algorithms import NumPyMinimumEigensolver"
   ]
  },
  {
   "cell_type": "markdown",
   "metadata": {},
   "source": [
    "# Aim: Find lowest eigen value for U\n",
    "\n",
    "Given :\n",
    "\n",
    "$$ U = \\begin{bmatrix}1 &0 &0 &0 \\\\0 &0 &-1 &0\\\\0 &-1 &0 &0\\\\0 &0 &0 &1\\end{bmatrix}$$\n",
    "\n",
    "\n",
    "Since U is 4x4 we will need 2 qubit circuit, thus the decomposition will be made of tensor products of 2 Pauli operators."
   ]
  },
  {
   "cell_type": "markdown",
   "metadata": {},
   "source": [
    "### 1. Reperesent U in terms of Pauli matrices\n",
    "\n",
    "by inspection:\n",
    "$$\n",
    "U = 1/2 (I_{1} \\otimes I_{2} + Z_{1} \\otimes Z_{2}) -1/2 (X_{1} \\otimes X_{2} + Y_{1} \\otimes Y_{2})\n",
    "$$\n",
    "\n",
    "Since we need to find min eigen value of U using VQE, hamiltonian H = U"
   ]
  },
  {
   "cell_type": "markdown",
   "metadata": {},
   "source": [
    "## Using classical method to find minimum eigen value"
   ]
  },
  {
   "cell_type": "code",
   "execution_count": 81,
   "metadata": {},
   "outputs": [
    {
     "data": {
      "text/plain": [
       "array([[ 1.+0.j,  0.+0.j,  0.+0.j,  0.+0.j],\n",
       "       [ 0.+0.j,  0.+0.j, -1.+0.j,  0.+0.j],\n",
       "       [ 0.+0.j, -1.+0.j,  0.+0.j,  0.+0.j],\n",
       "       [ 0.+0.j,  0.+0.j,  0.+0.j,  1.+0.j]])"
      ]
     },
     "execution_count": 81,
     "metadata": {},
     "output_type": "execute_result"
    }
   ],
   "source": [
    "a = np.array\n",
    "hamiltonian = SparsePauliOp.from_list([(\"II\", 0.5), (\"XX\", -0.5), (\"YY\", -0.5), (\"ZZ\", 0.5)])\n",
    "hmat = hamiltonian.to_matrix()\n",
    "hmat"
   ]
  },
  {
   "cell_type": "code",
   "execution_count": 82,
   "metadata": {},
   "outputs": [
    {
     "name": "stdout",
     "output_type": "stream",
     "text": [
      "Min value of the hamiltonian using Classical Method: -1.0\n"
     ]
    }
   ],
   "source": [
    "min_val_for_hamiltonian = NumPyMinimumEigensolver().compute_minimum_eigenvalue(hamiltonian)\n",
    "min_val_for_hamiltonian.eigenvalue\n",
    "\n",
    "print(f\"Min value of the hamiltonian using Classical Method: {min_val_for_hamiltonian.eigenvalue}\")"
   ]
  },
  {
   "cell_type": "markdown",
   "metadata": {},
   "source": [
    "### 2. Measurment in different basis:\n",
    "\n",
    "$$\n",
    "X = HZH\n",
    "Y = (HS^\\dag)^\\dag Z (HS^\\dag)\n",
    "$$\n",
    "\n",
    "### Measurement in ZZ basis\n",
    "\n",
    "Note: Since here we are dealing with 2 qubit states, the eigen value for 00 and 11 is 1 and for 01 and 10 is -1. \n",
    "This is same as XOR, and in quantum circuit XOR can be implemented using CNOT."
   ]
  },
  {
   "cell_type": "code",
   "execution_count": 83,
   "metadata": {},
   "outputs": [
    {
     "data": {
      "text/html": [
       "<pre style=\"word-wrap: normal;white-space: pre;background: #fff0;line-height: 1.1;font-family: &quot;Courier New&quot;,Courier,monospace\">      ░         \n",
       "q_0: ─░───■─────\n",
       "      ░ ┌─┴─┐┌─┐\n",
       "q_1: ─░─┤ X ├┤M├\n",
       "      ░ └───┘└╥┘\n",
       "c: 1/═════════╩═\n",
       "              0 </pre>"
      ],
      "text/plain": [
       "      ░         \n",
       "q_0: ─░───■─────\n",
       "      ░ ┌─┴─┐┌─┐\n",
       "q_1: ─░─┤ X ├┤M├\n",
       "      ░ └───┘└╥┘\n",
       "c: 1/═════════╩═\n",
       "              0 "
      ]
     },
     "execution_count": 83,
     "metadata": {},
     "output_type": "execute_result"
    }
   ],
   "source": [
    "qc = qk.QuantumCircuit(2, 1)\n",
    "qc.barrier()\n",
    "qc.cnot(0, 1)\n",
    "qc.measure(1, 0)\n",
    "qc.draw()"
   ]
  },
  {
   "cell_type": "markdown",
   "metadata": {},
   "source": [
    "### Measurment in XX basis\n",
    "\n",
    "$$ X= HZH $$"
   ]
  },
  {
   "cell_type": "code",
   "execution_count": 84,
   "metadata": {},
   "outputs": [
    {
     "data": {
      "text/html": [
       "<pre style=\"word-wrap: normal;white-space: pre;background: #fff0;line-height: 1.1;font-family: &quot;Courier New&quot;,Courier,monospace\">      ░ ┌───┐        \n",
       "q_0: ─░─┤ H ├──■─────\n",
       "      ░ ├───┤┌─┴─┐┌─┐\n",
       "q_1: ─░─┤ H ├┤ X ├┤M├\n",
       "      ░ └───┘└───┘└╥┘\n",
       "c: 1/══════════════╩═\n",
       "                   0 </pre>"
      ],
      "text/plain": [
       "      ░ ┌───┐        \n",
       "q_0: ─░─┤ H ├──■─────\n",
       "      ░ ├───┤┌─┴─┐┌─┐\n",
       "q_1: ─░─┤ H ├┤ X ├┤M├\n",
       "      ░ └───┘└───┘└╥┘\n",
       "c: 1/══════════════╩═\n",
       "                   0 "
      ]
     },
     "execution_count": 84,
     "metadata": {},
     "output_type": "execute_result"
    }
   ],
   "source": [
    "qc = qk.QuantumCircuit(2, 1)\n",
    "qc.barrier()\n",
    "qc.h(0)\n",
    "qc.h(1)\n",
    "qc.cnot(0, 1)\n",
    "qc.measure(1, 0)\n",
    "\n",
    "qc.draw()"
   ]
  },
  {
   "cell_type": "markdown",
   "metadata": {},
   "source": [
    "### Measurment in YY basis\n",
    "$$ Y = (HS^\\dag)^\\dag Z (HS^\\dag) $$"
   ]
  },
  {
   "cell_type": "code",
   "execution_count": 85,
   "metadata": {},
   "outputs": [
    {
     "data": {
      "text/html": [
       "<pre style=\"word-wrap: normal;white-space: pre;background: #fff0;line-height: 1.1;font-family: &quot;Courier New&quot;,Courier,monospace\">      ░ ┌─────┐┌───┐        \n",
       "q_0: ─░─┤ Sdg ├┤ H ├──■─────\n",
       "      ░ ├─────┤├───┤┌─┴─┐┌─┐\n",
       "q_1: ─░─┤ Sdg ├┤ H ├┤ X ├┤M├\n",
       "      ░ └─────┘└───┘└───┘└╥┘\n",
       "c: 1/═════════════════════╩═\n",
       "                          0 </pre>"
      ],
      "text/plain": [
       "      ░ ┌─────┐┌───┐        \n",
       "q_0: ─░─┤ Sdg ├┤ H ├──■─────\n",
       "      ░ ├─────┤├───┤┌─┴─┐┌─┐\n",
       "q_1: ─░─┤ Sdg ├┤ H ├┤ X ├┤M├\n",
       "      ░ └─────┘└───┘└───┘└╥┘\n",
       "c: 1/═════════════════════╩═\n",
       "                          0 "
      ]
     },
     "execution_count": 85,
     "metadata": {},
     "output_type": "execute_result"
    }
   ],
   "source": [
    "qc = qk.QuantumCircuit(2, 1)\n",
    "qc.barrier()\n",
    "qc.sdg(0)\n",
    "qc.sdg(1)\n",
    "qc.h(0)\n",
    "qc.h(1)\n",
    "qc.cx(0, 1)\n",
    "qc.measure(1, 0)\n",
    "\n",
    "qc.draw()"
   ]
  },
  {
   "cell_type": "markdown",
   "metadata": {},
   "source": [
    "### 3. VQE\n",
    "\n",
    "<ol>\n",
    "    <li> Define hamiltonian\n",
    "    <li> Choose ansatz , parameterised by theta </li>\n",
    "    <li> Use three qc to estimate mean values `X_1X_2, Y_1Y_2, Z_1Z_2`</li>\n",
    "    <li>Compute expected value of hamiltonian</li>\n",
    "    <li> Change theta to reach lower energy </li>\n",
    "</ol>\n",
    "\n",
    "Hamiltonian :\n",
    "\n",
    "$$\n",
    "U = 1/2 (I_{1} \\otimes I_{2} + Z_{1} \\otimes Z_{2}) -1/2 (X_{1} \\otimes X_{2} + Y_{1} \\otimes Y_{2})\n",
    "$$\n",
    "\n",
    "Ansatz:\n",
    "\n",
    "Preparing ansatz"
   ]
  },
  {
   "cell_type": "code",
   "execution_count": 117,
   "metadata": {},
   "outputs": [
    {
     "data": {
      "text/html": [
       "<pre style=\"word-wrap: normal;white-space: pre;background: #fff0;line-height: 1.1;font-family: &quot;Courier New&quot;,Courier,monospace\">      ┌───┐     ┌─────────┐\n",
       "qr_0: ┤ H ├──■──┤ Rx(0.2) ├\n",
       "      └───┘┌─┴─┐└─────────┘\n",
       "qr_1: ─────┤ X ├───────────\n",
       "           └───┘           \n",
       "cr: 1/═════════════════════\n",
       "                           </pre>"
      ],
      "text/plain": [
       "      ┌───┐     ┌─────────┐\n",
       "qr_0: ┤ H ├──■──┤ Rx(0.2) ├\n",
       "      └───┘┌─┴─┐└─────────┘\n",
       "qr_1: ─────┤ X ├───────────\n",
       "           └───┘           \n",
       "cr: 1/═════════════════════\n",
       "                           "
      ]
     },
     "execution_count": 117,
     "metadata": {},
     "output_type": "execute_result"
    }
   ],
   "source": [
    "def prepare_ansatz(qc, qr, theta):\n",
    "    \"\"\"\n",
    "    Prepares the suggested ansatz\n",
    "\n",
    "    Arguments\n",
    "    -----------\n",
    "    qc:    quantum Circuit\n",
    "    qr:    quantum Register\n",
    "    theta: theta for rx gate\n",
    "    \n",
    "    Return\n",
    "    ---------\n",
    "    qc:    quantum circuit\n",
    "    \"\"\"\n",
    "    qc.h(qr[0])\n",
    "    qc.cx(qr[0], qr[1])\n",
    "    qc.rx(theta, qr[0])\n",
    "    \n",
    "    return qc\n",
    "\n",
    "def prepare_ansatz_with_rotations(qc, qr, theta):\n",
    "    \"\"\"\n",
    "    Prepares the suggested ansatz with only rotation gates\n",
    "\n",
    "    Arguments\n",
    "    -----------\n",
    "    qc:    quantum circuit\n",
    "    qr:    quantum register\n",
    "    theta: theta for rx gate\n",
    "    \n",
    "    Return\n",
    "    ---------\n",
    "    qc:    quantum circuit\n",
    "    \"\"\"\n",
    "    qc.rx(theta[0], qr[0])\n",
    "    qc.ry(theta[1], qr[0])\n",
    "    qc.rz(theta[2], qr[0])\n",
    "    \n",
    "    return qc\n",
    "\n",
    "qr = qk.QuantumRegister(2, \"qr\")\n",
    "cr = qk.ClassicalRegister(1, \"cr\")\n",
    "qc = qk.QuantumCircuit(qr, cr)\n",
    "qc = prepare_ansatz(qc, qr, 0.2)\n",
    "qc.draw()"
   ]
  },
  {
   "cell_type": "code",
   "execution_count": 118,
   "metadata": {},
   "outputs": [],
   "source": [
    "\n",
    "def measurments(qc, qr, cr, op):\n",
    "    \"\"\"\n",
    "    Method to measure in different basis\n",
    "\n",
    "    Arguments\n",
    "    -----------\n",
    "    qc:  quantum circuit\n",
    "    qr:  quantum register\n",
    "    cr:  classical register\n",
    "    op:  basis of operation   \n",
    "    \n",
    "    Return\n",
    "    ---------\n",
    "    qc:  quantum circuit\n",
    "    \"\"\"\n",
    "    if op == \"XX\":\n",
    "        qc.h(qr[0])\n",
    "        qc.h(qr[1])\n",
    "        qc.cnot(qr[0], qr[1])\n",
    "        qc.measure(qr[1], cr[0])\n",
    "    elif op == 'YY':\n",
    "        qc.sdg(qr[0])\n",
    "        qc.sdg(qr[1])\n",
    "        qc.h(qr[0])\n",
    "        qc.h(qr[1])\n",
    "        qc.cnot(qr[0], qr[1])\n",
    "        qc.measure(qr[1], cr[0])\n",
    "    elif op == \"ZZ\":\n",
    "        qc.cnot(qr[0], qr[1])\n",
    "        qc.measure(qr[1], cr[0])\n",
    "    else:\n",
    "        raise ValueError(\"Incorrect op format\")\n",
    "    \n",
    "    return qc\n",
    "\n",
    "def hamiltonian(params):\n",
    "    \"\"\"\n",
    "    Evaulates the Energy of the trial state using the mean values of the operators XX, YY and ZZ.\n",
    "    H = 1/2 * (Id + ZZ - XX - YY) \n",
    "    \n",
    "    Arguments\n",
    "    -----------\n",
    "    params (dict): is an dictionary containing the mean values form the measurements of the operators XX, YY, ZZ;\n",
    "    \n",
    "    Return\n",
    "    ---------\n",
    "    en (real): energy of the system\n",
    "    \"\"\"\n",
    "    h = (1 + params['ZZ'] - params['XX'] - params['YY'])/2\n",
    "    print(h)\n",
    "    return h\n",
    "\n",
    "def calc_expectation_value(counts, shots):\n",
    "    \"\"\"\n",
    "    Calculates the expectation value\n",
    "\n",
    "    Arguments\n",
    "    -----------\n",
    "    counts: counts result from a circuit execution\n",
    "    shots:  The number of times the circuit is run\n",
    "    \n",
    "    Return\n",
    "    ---------\n",
    "    qc: expectation value\n",
    "    \"\"\"\n",
    "    exp_val = 0.0\n",
    "    for ct in counts:\n",
    "        sign = +1\n",
    "        if ct == \"1\":\n",
    "            sign = -1\n",
    "        exp_val = exp_val + sign*counts[ct]/shots\n",
    "    return exp_val"
   ]
  },
  {
   "cell_type": "code",
   "execution_count": 119,
   "metadata": {},
   "outputs": [],
   "source": [
    "def vqe(theta, rotations, flag = True):\n",
    "    \"\"\"\n",
    "    Runs the vqe algorithm\n",
    "\n",
    "    Arguments\n",
    "    -----------\n",
    "    theta:      The rotation values for ansatz\n",
    "    rotations:  If true use suggested ansatz else use ansatz with rotation gates\n",
    "    flag:       If true print results and return qc list\n",
    "\n",
    "    Return\n",
    "    ---------\n",
    "    energy: Energy of the system\n",
    "    \"\"\"\n",
    "    shots = 8192\n",
    "    vqe_res = dict()\n",
    "    qc_list = dict()\n",
    "\n",
    "    for op in [\"XX\", \"ZZ\", \"YY\"]:\n",
    "        qr = qk.QuantumRegister(2, \"qr\")\n",
    "        cr = qk.ClassicalRegister(1, \"cr\")\n",
    "        qc = qk.QuantumCircuit(qr, cr)\n",
    "\n",
    "        if rotations:\n",
    "           qc = prepare_ansatz_with_rotations(qc, qr, theta)\n",
    "        else:\n",
    "           qc = prepare_ansatz(qc, qr, theta)\n",
    "\n",
    "        qc.barrier()\n",
    "        \n",
    "        qc = measurments(qc, qr, cr, op)\n",
    "\n",
    "        \n",
    "        backend = BasicAer.get_backend(\"qasm_simulator\")\n",
    "        job = execute(qc, backend, shots=shots)\n",
    "        result = job.result()\n",
    "        counts = result.get_counts()\n",
    "        \n",
    "        exp_val = calc_expectation_value(counts, shots)\n",
    "        \n",
    "        vqe_res[op] = exp_val\n",
    "        qc_list[op] = qc\n",
    "\n",
    "    print(\"Somehing: \", vqe_res)\n",
    "    energy = hamiltonian(vqe_res)\n",
    "\n",
    "    if flag:\n",
    "        print(\"Mean values from measurment results: \\n\")\n",
    "        print(f\"Theta   Energy       XX        YY         ZZ\")\n",
    "        print(f\"{theta }    {energy:.6f}   {vqe_res['XX']:.6f}    {vqe_res['YY']:.6f}   {vqe_res['ZZ']:.6f}\")\n",
    "\n",
    "        return energy, qc_list\n",
    "    else:\n",
    "     return energy"
   ]
  },
  {
   "cell_type": "code",
   "execution_count": 120,
   "metadata": {},
   "outputs": [
    {
     "name": "stdout",
     "output_type": "stream",
     "text": [
      "Somehing:  {'XX': 1.0, 'ZZ': 0.980712890625, 'YY': -0.980224609375}\n",
      "0.98046875\n",
      "Mean values from measurment results: \n",
      "\n",
      "Theta   Energy       XX        YY         ZZ\n",
      "0.2    0.980469   1.000000    -0.980225   0.980713\n",
      "Quantum circuit for measurment of YY\n",
      "      ┌───┐     ┌─────────┐ ░ ┌─────┐┌───┐        \n",
      "qr_0: ┤ H ├──■──┤ Rx(0.2) ├─░─┤ Sdg ├┤ H ├──■─────\n",
      "      └───┘┌─┴─┐└─────────┘ ░ ├─────┤├───┤┌─┴─┐┌─┐\n",
      "qr_1: ─────┤ X ├────────────░─┤ Sdg ├┤ H ├┤ X ├┤M├\n",
      "           └───┘            ░ └─────┘└───┘└───┘└╥┘\n",
      "cr: 1/══════════════════════════════════════════╩═\n",
      "                                                0 \n",
      "Quantum circuit for measurment of ZZ\n",
      "      ┌───┐     ┌─────────┐ ░         \n",
      "qr_0: ┤ H ├──■──┤ Rx(0.2) ├─░───■─────\n",
      "      └───┘┌─┴─┐└─────────┘ ░ ┌─┴─┐┌─┐\n",
      "qr_1: ─────┤ X ├────────────░─┤ X ├┤M├\n",
      "           └───┘            ░ └───┘└╥┘\n",
      "cr: 1/══════════════════════════════╩═\n",
      "                                    0 \n",
      "Quantum circuit for measurment of XX\n",
      "      ┌───┐     ┌─────────┐ ░ ┌───┐        \n",
      "qr_0: ┤ H ├──■──┤ Rx(0.2) ├─░─┤ H ├──■─────\n",
      "      └───┘┌─┴─┐└─────────┘ ░ ├───┤┌─┴─┐┌─┐\n",
      "qr_1: ─────┤ X ├────────────░─┤ H ├┤ X ├┤M├\n",
      "           └───┘            ░ └───┘└───┘└╥┘\n",
      "cr: 1/═══════════════════════════════════╩═\n",
      "                                         0 \n"
     ]
    }
   ],
   "source": [
    "theta = 0.2\n",
    "energy, qc_list = vqe(theta, False)\n",
    "\n",
    "for op in ['YY', 'ZZ', 'XX']:\n",
    "    print(f\"Quantum circuit for measurment of {op}\")\n",
    "    print(qc_list[op].draw())"
   ]
  },
  {
   "cell_type": "markdown",
   "metadata": {},
   "source": [
    "At $\\theta$ = 0.2 Energy $\\approx$ 0.98. But we need lowest energy of this system, i.e the lowest eigenvalue of the hamiltonian.\n",
    "\n",
    "We will use the optimizer for this minimization procedure.\n",
    "\n",
    "## Using an optimizer"
   ]
  },
  {
   "cell_type": "code",
   "execution_count": 121,
   "metadata": {},
   "outputs": [
    {
     "name": "stdout",
     "output_type": "stream",
     "text": [
      "Somehing:  {'XX': 1.0, 'ZZ': 0.361572265625, 'YY': -0.356689453125}\n",
      "0.359130859375\n",
      "Somehing:  {'XX': 1.0, 'ZZ': -0.38720703125, 'YY': 0.3642578125}\n",
      "-0.375732421875\n",
      "Somehing:  {'XX': 1.0, 'ZZ': -0.737060546875, 'YY': 0.740478515625}\n",
      "-0.73876953125\n",
      "Somehing:  {'XX': 1.0, 'ZZ': -0.908935546875, 'YY': 0.893310546875}\n",
      "-0.901123046875\n",
      "Somehing:  {'XX': 1.0, 'ZZ': -0.955810546875, 'YY': 0.957275390625}\n",
      "-0.95654296875\n",
      "Somehing:  {'XX': 1.0, 'ZZ': -0.996826171875, 'YY': 0.99560546875}\n",
      "-0.9962158203125\n",
      "Somehing:  {'XX': 1.0, 'ZZ': -0.988037109375, 'YY': 0.986083984375}\n",
      "-0.987060546875\n",
      "Somehing:  {'XX': 1.0, 'ZZ': -0.999267578125, 'YY': 0.99951171875}\n",
      "-0.9993896484375\n",
      "Somehing:  {'XX': 1.0, 'ZZ': -1.0, 'YY': 1.0}\n",
      "-1.0\n",
      "Somehing:  {'XX': 1.0, 'ZZ': -1.0, 'YY': 1.0}\n",
      "-1.0\n",
      "Somehing:  {'XX': 1.0, 'ZZ': -1.0, 'YY': 1.0}\n",
      "-1.0\n",
      "Somehing:  {'XX': 1.0, 'ZZ': -1.0, 'YY': 1.0}\n",
      "-1.0\n",
      "Somehing:  {'XX': 1.0, 'ZZ': -1.0, 'YY': 1.0}\n",
      "-1.0\n",
      "Somehing:  {'XX': 1.0, 'ZZ': -0.999755859375, 'YY': 0.999755859375}\n",
      "-0.999755859375\n",
      "Somehing:  {'XX': 1.0, 'ZZ': -0.999755859375, 'YY': 1.0}\n",
      "-0.9998779296875\n",
      "Somehing:  {'XX': 1.0, 'ZZ': -1.0, 'YY': 1.0}\n",
      "-1.0\n",
      "Somehing:  {'XX': 1.0, 'ZZ': -1.0, 'YY': 0.999755859375}\n",
      "-0.9998779296875\n",
      "Somehing:  {'XX': 1.0, 'ZZ': -0.999755859375, 'YY': 1.0}\n",
      "-0.9998779296875\n",
      "Somehing:  {'XX': 1.0, 'ZZ': -1.0, 'YY': 0.999755859375}\n",
      "-0.9998779296875\n",
      "Somehing:  {'XX': 1.0, 'ZZ': -1.0, 'YY': 1.0}\n",
      "-1.0\n",
      "Somehing:  {'XX': 1.0, 'ZZ': -0.999755859375, 'YY': 1.0}\n",
      "-0.9998779296875\n",
      "Somehing:  {'XX': 1.0, 'ZZ': -0.999755859375, 'YY': 0.999755859375}\n",
      "-0.999755859375\n",
      "Somehing:  {'XX': 1.0, 'ZZ': -1.0, 'YY': 0.99951171875}\n",
      "-0.999755859375\n",
      "Somehing:  {'XX': 1.0, 'ZZ': -0.999755859375, 'YY': 0.999755859375}\n",
      "-0.999755859375\n",
      "Somehing:  {'XX': 1.0, 'ZZ': -1.0, 'YY': 1.0}\n",
      "-1.0\n",
      "Somehing:  {'XX': 1.0, 'ZZ': -1.0, 'YY': 1.0}\n",
      "-1.0\n"
     ]
    },
    {
     "data": {
      "text/plain": [
       " message: Solution found.\n",
       " success: True\n",
       "  status: 0\n",
       "     fun: -1.0\n",
       "       x: 3.1290295833570028\n",
       "     nit: 26\n",
       "    nfev: 26"
      ]
     },
     "execution_count": 121,
     "metadata": {},
     "output_type": "execute_result"
    }
   ],
   "source": [
    "minimize_scalar(vqe, args=(False, False), bounds=(0, pi), method='bounded')"
   ]
  },
  {
   "cell_type": "code",
   "execution_count": 122,
   "metadata": {},
   "outputs": [
    {
     "name": "stdout",
     "output_type": "stream",
     "text": [
      "Somehing:  {'XX': 1.0, 'ZZ': -0.9990234375, 'YY': 0.999755859375}\n",
      "-0.9993896484375\n",
      "Mean values from measurment results: \n",
      "\n",
      "Theta   Energy       XX        YY         ZZ\n",
      "3.1199    -0.999390   1.000000    0.999756   -0.999023\n"
     ]
    }
   ],
   "source": [
    "lowest_eigen_val, _ = vqe(3.1199, False)"
   ]
  },
  {
   "cell_type": "markdown",
   "metadata": {},
   "source": [
    "So the lowest hamiltonian is given by $$ H _ {\\theta = 3.1199} = 1/2 (1 + <ZZ> + <XX> + <YY>) = -.99 \\approx -1 $$ "
   ]
  },
  {
   "cell_type": "code",
   "execution_count": 123,
   "metadata": {},
   "outputs": [
    {
     "name": "stdout",
     "output_type": "stream",
     "text": [
      " Using classical method we get -1.0 and from quantum vqe method -0.9993896484375\n"
     ]
    }
   ],
   "source": [
    "print(f\" Using classical method we get {min_val_for_hamiltonian.eigenvalue} and from quantum vqe method {lowest_eigen_val}\")"
   ]
  },
  {
   "cell_type": "markdown",
   "metadata": {},
   "source": [
    "## Analysis\n",
    "\n",
    "For this analysis I am not using the suggested ansatz but the ansatz with rotation gates only."
   ]
  },
  {
   "cell_type": "code",
   "execution_count": 130,
   "metadata": {},
   "outputs": [
    {
     "name": "stdout",
     "output_type": "stream",
     "text": [
      "Somehing:  {'XX': -0.022705078125, 'ZZ': -1.0, 'YY': 0.001708984375}\n",
      "0.010498046875\n",
      "Somehing:  {'XX': -0.004150390625, 'ZZ': -1.0, 'YY': 0.00244140625}\n",
      "0.0008544921875\n",
      "Somehing:  {'XX': -0.001708984375, 'ZZ': -1.0, 'YY': 0.016845703125}\n",
      "-0.007568359375\n",
      "Somehing:  {'XX': 0.001220703125, 'ZZ': -1.0, 'YY': -0.01171875}\n",
      "0.0052490234375\n"
     ]
    }
   ],
   "source": [
    "def energy_expectation(x, y):\n",
    "    \"\"\"\n",
    "    Calculates energy expectation for a range of values\n",
    "    \"\"\"\n",
    "    energy = np.zeros(x.shape)\n",
    "    for idx, thetas in enumerate(x):\n",
    "        for ind, theta1 in enumerate(thetas):\n",
    "            energy[idx][ind] = vqe([np.pi, theta1, y[ind][idx]], True, False)\n",
    "    return energy\n",
    "\n",
    "theta1 = np.linspace(0.0, 2*np.pi, 2)\n",
    "theta2 = np.linspace(0.0, 2*np.pi, 2)\n",
    "\n",
    "X, Y = np.meshgrid(theta1, theta2)\n",
    "Z = energy_expectation(X, Y)"
   ]
  },
  {
   "cell_type": "code",
   "execution_count": 131,
   "metadata": {},
   "outputs": [
    {
     "data": {
      "image/png": "[encoded data removed]",
      "text/plain": [
       "<Figure size 640x480 with 1 Axes>"
      ]
     },
     "metadata": {},
     "output_type": "display_data"
    }
   ],
   "source": [
    "fig = plt.figure()\n",
    "ax = plt.axes(projection='3d')\n",
    "ax.contour3D(X, Y, Z, 50, cmap=\"summer\")\n",
    "ax.set_xlabel('theta_1')\n",
    "ax.set_ylabel('theta_2')\n",
    "ax.set_zlabel('Expectation Value')\n",
    "plt.show()"
   ]
  },
  {
   "cell_type": "code",
   "execution_count": null,
   "metadata": {},
   "outputs": [],
   "source": []
  }
 ],
 "metadata": {
  "kernelspec": {
   "display_name": "Python 3",
   "language": "python",
   "name": "python3"
  },
  "language_info": {
   "codemirror_mode": {
    "name": "ipython",
    "version": 3
   },
   "file_extension": ".py",
   "mimetype": "text/x-python",
   "name": "python",
   "nbconvert_exporter": "python",
   "pygments_lexer": "ipython3",
   "version": "3.11.5"
  },
  "orig_nbformat": 4
 },
 "nbformat": 4,
 "nbformat_minor": 2
}
