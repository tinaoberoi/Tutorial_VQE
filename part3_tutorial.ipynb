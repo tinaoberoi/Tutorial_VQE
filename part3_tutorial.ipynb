{
 "cells": [
  {
   "cell_type": "code",
   "execution_count": 2,
   "metadata": {},
   "outputs": [],
   "source": [
    "import numpy as np\n",
    "from numpy import pi\n",
    "from scipy.optimize import minimize_scalar, minimize\n",
    "import matplotlib as plt\n",
    "from mpl_toolkits import mplot3d\n",
    "from matplotlib import cm\n",
    "import qiskit as qk\n",
    "from qiskit import BasicAer, execute\n",
    "from qiskit.quantum_info import SparsePauliOp\n",
    "from qiskit_algorithms import NumPyMinimumEigensolver"
   ]
  },
  {
   "cell_type": "markdown",
   "metadata": {},
   "source": [
    "# Aim: Find lowest eigen value for U\n",
    "\n",
    "Given :\n",
    "\n",
    "$$ U = \\begin{bmatrix}1 &0 &0 &0 \\\\0 &0 &-1 &0\\\\0 &-1 &0 &0\\\\0 &0 &0 &1\\end{bmatrix}$$\n",
    "\n",
    "\n",
    "Since U is 4x4 we will need 2 qubit circuit, thus the decomposition will be made of tensor products of 2 Pauli operators."
   ]
  },
  {
   "cell_type": "markdown",
   "metadata": {},
   "source": [
    "### 1. Reperesent U in terms of Pauli matrices\n",
    "\n",
    "by inspection:\n",
    "$$\n",
    "U = 1/2 (I_{1} \\otimes I_{2} + Z_{1} \\otimes Z_{2}) -1/2 (X_{1} \\otimes X_{2} + Y_{1} \\otimes Y_{2})\n",
    "$$\n",
    "\n",
    "Since we need to find min eigen value of U using VQE, hamiltonian H = U"
   ]
  },
  {
   "cell_type": "markdown",
   "metadata": {},
   "source": [
    "## Using classical method to find minimum eigen value"
   ]
  },
  {
   "cell_type": "code",
   "execution_count": 50,
   "metadata": {},
   "outputs": [
    {
     "data": {
      "text/plain": [
       "array([[ 1.+0.j,  0.+0.j,  0.+0.j,  0.+0.j],\n",
       "       [ 0.+0.j,  0.+0.j, -1.+0.j,  0.+0.j],\n",
       "       [ 0.+0.j, -1.+0.j,  0.+0.j,  0.+0.j],\n",
       "       [ 0.+0.j,  0.+0.j,  0.+0.j,  1.+0.j]])"
      ]
     },
     "execution_count": 50,
     "metadata": {},
     "output_type": "execute_result"
    }
   ],
   "source": [
    "a = np.array\n",
    "hamiltonian = SparsePauliOp.from_list([(\"II\", 0.5), (\"XX\", -0.5), (\"YY\", -0.5), (\"ZZ\", 0.5)])\n",
    "hmat = hamiltonian.to_matrix()\n",
    "hmat"
   ]
  },
  {
   "cell_type": "code",
   "execution_count": 51,
   "metadata": {},
   "outputs": [
    {
     "name": "stdout",
     "output_type": "stream",
     "text": [
      "Min value of the hamiltonian using Classical Method: -1.0\n"
     ]
    }
   ],
   "source": [
    "min_val_for_hamiltonian = NumPyMinimumEigensolver().compute_minimum_eigenvalue(hamiltonian)\n",
    "min_val_for_hamiltonian.eigenvalue\n",
    "\n",
    "print(f\"Min value of the hamiltonian using Classical Method: {min_val_for_hamiltonian.eigenvalue}\")"
   ]
  },
  {
   "cell_type": "markdown",
   "metadata": {},
   "source": [
    "### 2. Measurment in different basis:\n",
    "\n",
    "$$\n",
    "X = HZH\n",
    "Y = (HS^\\dag)^\\dag Z (HS^\\dag)\n",
    "$$\n",
    "\n",
    "### Measurement in ZZ basis\n",
    "\n",
    "Note: Since here we are dealing with 2 qubit states, the eigen value for 00 and 11 is 1 and for 01 and 10 is -1. \n",
    "This is same as XOR, and in quantum circuit XOR can be implemented using CNOT."
   ]
  },
  {
   "cell_type": "code",
   "execution_count": 5,
   "metadata": {},
   "outputs": [
    {
     "data": {
      "text/html": [
       "<pre style=\"word-wrap: normal;white-space: pre;background: #fff0;line-height: 1.1;font-family: &quot;Courier New&quot;,Courier,monospace\">      ░         \n",
       "q_0: ─░───■─────\n",
       "      ░ ┌─┴─┐┌─┐\n",
       "q_1: ─░─┤ X ├┤M├\n",
       "      ░ └───┘└╥┘\n",
       "c: 1/═════════╩═\n",
       "              0 </pre>"
      ],
      "text/plain": [
       "      ░         \n",
       "q_0: ─░───■─────\n",
       "      ░ ┌─┴─┐┌─┐\n",
       "q_1: ─░─┤ X ├┤M├\n",
       "      ░ └───┘└╥┘\n",
       "c: 1/═════════╩═\n",
       "              0 "
      ]
     },
     "execution_count": 5,
     "metadata": {},
     "output_type": "execute_result"
    }
   ],
   "source": [
    "qc = qk.QuantumCircuit(2, 1)\n",
    "qc.barrier()\n",
    "qc.cnot(0, 1)\n",
    "qc.measure(1, 0)\n",
    "qc.draw()"
   ]
  },
  {
   "cell_type": "markdown",
   "metadata": {},
   "source": [
    "### Measurment in XX basis\n",
    "\n",
    "$$ X= HZH $$"
   ]
  },
  {
   "cell_type": "code",
   "execution_count": 6,
   "metadata": {},
   "outputs": [
    {
     "data": {
      "text/html": [
       "<pre style=\"word-wrap: normal;white-space: pre;background: #fff0;line-height: 1.1;font-family: &quot;Courier New&quot;,Courier,monospace\">      ░ ┌───┐        \n",
       "q_0: ─░─┤ H ├──■─────\n",
       "      ░ ├───┤┌─┴─┐┌─┐\n",
       "q_1: ─░─┤ H ├┤ X ├┤M├\n",
       "      ░ └───┘└───┘└╥┘\n",
       "c: 1/══════════════╩═\n",
       "                   0 </pre>"
      ],
      "text/plain": [
       "      ░ ┌───┐        \n",
       "q_0: ─░─┤ H ├──■─────\n",
       "      ░ ├───┤┌─┴─┐┌─┐\n",
       "q_1: ─░─┤ H ├┤ X ├┤M├\n",
       "      ░ └───┘└───┘└╥┘\n",
       "c: 1/══════════════╩═\n",
       "                   0 "
      ]
     },
     "execution_count": 6,
     "metadata": {},
     "output_type": "execute_result"
    }
   ],
   "source": [
    "qc = qk.QuantumCircuit(2, 1)\n",
    "qc.barrier()\n",
    "qc.h(0)\n",
    "qc.h(1)\n",
    "qc.cnot(0, 1)\n",
    "qc.measure(1, 0)\n",
    "\n",
    "qc.draw()"
   ]
  },
  {
   "cell_type": "markdown",
   "metadata": {},
   "source": [
    "### Measurment in YY basis\n",
    "$$ Y = (HS^\\dag)^\\dag Z (HS^\\dag) $$"
   ]
  },
  {
   "cell_type": "code",
   "execution_count": 7,
   "metadata": {},
   "outputs": [
    {
     "data": {
      "text/html": [
       "<pre style=\"word-wrap: normal;white-space: pre;background: #fff0;line-height: 1.1;font-family: &quot;Courier New&quot;,Courier,monospace\">      ░ ┌─────┐┌───┐        \n",
       "q_0: ─░─┤ Sdg ├┤ H ├──■─────\n",
       "      ░ ├─────┤├───┤┌─┴─┐┌─┐\n",
       "q_1: ─░─┤ Sdg ├┤ H ├┤ X ├┤M├\n",
       "      ░ └─────┘└───┘└───┘└╥┘\n",
       "c: 1/═════════════════════╩═\n",
       "                          0 </pre>"
      ],
      "text/plain": [
       "      ░ ┌─────┐┌───┐        \n",
       "q_0: ─░─┤ Sdg ├┤ H ├──■─────\n",
       "      ░ ├─────┤├───┤┌─┴─┐┌─┐\n",
       "q_1: ─░─┤ Sdg ├┤ H ├┤ X ├┤M├\n",
       "      ░ └─────┘└───┘└───┘└╥┘\n",
       "c: 1/═════════════════════╩═\n",
       "                          0 "
      ]
     },
     "execution_count": 7,
     "metadata": {},
     "output_type": "execute_result"
    }
   ],
   "source": [
    "qc = qk.QuantumCircuit(2, 1)\n",
    "qc.barrier()\n",
    "qc.sdg(0)\n",
    "qc.sdg(1)\n",
    "qc.h(0)\n",
    "qc.h(1)\n",
    "qc.cx(0, 1)\n",
    "qc.measure(1, 0)\n",
    "\n",
    "qc.draw()"
   ]
  },
  {
   "cell_type": "markdown",
   "metadata": {},
   "source": [
    "### 3. VQE\n",
    "\n",
    "<ol>\n",
    "    <li> Define hamiltonian\n",
    "    <li> Choose ansatz , parameterised by theta </li>\n",
    "    <li> Use three qc to estimate mean values `X_1X_2, Y_1Y_2, Z_1Z_2`</li>\n",
    "    <li>Compute expected value of hamiltonian</li>\n",
    "    <li> Change theta to reach lower energy </li>\n",
    "</ol>\n",
    "\n",
    "Hamiltonian :\n",
    "\n",
    "$$\n",
    "U = 1/2 (I_{1} \\otimes I_{2} + Z_{1} \\otimes Z_{2}) -1/2 (X_{1} \\otimes X_{2} + Y_{1} \\otimes Y_{2})\n",
    "$$\n",
    "\n",
    "Ansatz:\n",
    "\n",
    "Preparing ansatz"
   ]
  },
  {
   "cell_type": "code",
   "execution_count": 34,
   "metadata": {},
   "outputs": [
    {
     "data": {
      "text/html": [
       "<pre style=\"word-wrap: normal;white-space: pre;background: #fff0;line-height: 1.1;font-family: &quot;Courier New&quot;,Courier,monospace\">      ┌───┐     ┌─────────┐\n",
       "qr_0: ┤ H ├──■──┤ Rx(0.9) ├\n",
       "      └───┘┌─┴─┐└─────────┘\n",
       "qr_1: ─────┤ X ├───────────\n",
       "           └───┘           \n",
       "cr: 1/═════════════════════\n",
       "                           </pre>"
      ],
      "text/plain": [
       "      ┌───┐     ┌─────────┐\n",
       "qr_0: ┤ H ├──■──┤ Rx(0.9) ├\n",
       "      └───┘┌─┴─┐└─────────┘\n",
       "qr_1: ─────┤ X ├───────────\n",
       "           └───┘           \n",
       "cr: 1/═════════════════════\n",
       "                           "
      ]
     },
     "execution_count": 34,
     "metadata": {},
     "output_type": "execute_result"
    }
   ],
   "source": [
    "def prepare_ansatz(qc, qr, theta):\n",
    "    qc.h(qr[0])\n",
    "    qc.cx(qr[0], qr[1])\n",
    "    qc.rx(theta, qr[0])\n",
    "    \n",
    "    return qc\n",
    "\n",
    "qr = qk.QuantumRegister(2, \"qr\")\n",
    "cr = qk.ClassicalRegister(1, \"cr\")\n",
    "qc = qk.QuantumCircuit(qr, cr)\n",
    "qc = prepare_ansatz(qc, qr, 0.9)\n",
    "qc.draw()"
   ]
  },
  {
   "cell_type": "code",
   "execution_count": 35,
   "metadata": {},
   "outputs": [],
   "source": [
    "\n",
    "def measurments(qc, qr, cr, op):\n",
    "    if op == \"XX\":\n",
    "        qc.h(qr[0])\n",
    "        qc.h(qr[1])\n",
    "        qc.cnot(qr[0], qr[1])\n",
    "        qc.measure(qr[1], cr[0])\n",
    "    elif op == 'YY':\n",
    "        qc.sdg(qr[0])\n",
    "        qc.sdg(qr[1])\n",
    "        qc.h(qr[0])\n",
    "        qc.h(qr[1])\n",
    "        qc.cnot(qr[0], qr[1])\n",
    "        qc.measure(qr[1], cr[0])\n",
    "    elif op == \"ZZ\":\n",
    "        qc.cnot(qr[0], qr[1])\n",
    "        qc.measure(qr[1], cr[0])\n",
    "    else:\n",
    "        raise ValueError(\"Incorrect op format\")\n",
    "    \n",
    "    return qc\n",
    "\n",
    "# H = 1/2 * (Id + ZZ - XX - YY)\n",
    "def hamiltonian(params):\n",
    "    \"\"\"\n",
    "    Evaulates the Energy of the trial state using the mean values of the operators XX, YY and ZZ.\n",
    "    \n",
    "    Arguments\n",
    "    -----------\n",
    "    params (dict): is an dictionary containing the mean values form the measurements of the operators XX, YY, ZZ;\n",
    "    \n",
    "    Return\n",
    "    ---------\n",
    "    en (real): energy of the system\n",
    "    \"\"\"\n",
    "    h = (1 + params['ZZ'] - params['XX'] - params['YY'])/2\n",
    "    return h\n",
    "\n",
    "def calc_expectation_value(counts, shots):\n",
    "    exp_val = 0.0\n",
    "    for ct in counts:\n",
    "        sign = +1\n",
    "        if ct == \"1\":\n",
    "            sign = -1\n",
    "        exp_val = exp_val + sign*counts[ct]/shots\n",
    "    return exp_val"
   ]
  },
  {
   "cell_type": "code",
   "execution_count": 45,
   "metadata": {},
   "outputs": [],
   "source": [
    "def vqe(theta, flag = True):\n",
    "    shots = 8192\n",
    "    vqe_res = dict()\n",
    "    qc_list = dict()\n",
    "\n",
    "    for op in [\"XX\", \"ZZ\", \"YY\"]:\n",
    "        qr = qk.QuantumRegister(2, \"qr\")\n",
    "        cr = qk.ClassicalRegister(1, \"cr\")\n",
    "        qc = qk.QuantumCircuit(qr, cr)\n",
    "\n",
    "        qc = prepare_ansatz(qc, qr, theta)\n",
    "\n",
    "        qc.barrier()\n",
    "        \n",
    "        qc = measurments(qc, qr, cr, op)\n",
    "\n",
    "        \n",
    "        backend = BasicAer.get_backend(\"qasm_simulator\")\n",
    "        job = execute(qc, backend, shots=shots)\n",
    "        result = job.result()\n",
    "        counts = result.get_counts()\n",
    "        \n",
    "        exp_val = calc_expectation_value(counts, shots)\n",
    "\n",
    "        vqe_res[op] = exp_val\n",
    "        qc_list[op] = qc\n",
    "\n",
    "    energy = hamiltonian(vqe_res)\n",
    "\n",
    "    if flag:\n",
    "        print(\"Mean values from measurment results: \\n\")\n",
    "        print(f\"Theta   Energy       XX        YY         ZZ\")\n",
    "        print(f\"{theta }    {energy:.6f}   {vqe_res['XX']:.6f}    {vqe_res['YY']:.6f}   {vqe_res['ZZ']:.6f}\")\n",
    "\n",
    "        return energy, qc_list\n",
    "    else:\n",
    "     return energy"
   ]
  },
  {
   "cell_type": "code",
   "execution_count": 46,
   "metadata": {},
   "outputs": [
    {
     "name": "stdout",
     "output_type": "stream",
     "text": [
      "Mean values from measurment results: \n",
      "\n",
      "Theta   Energy       XX        YY         ZZ\n",
      "0.2    0.979004   1.000000    -0.975830   0.982178\n",
      "Quantum circuit for measurment of YY\n",
      "      ┌───┐     ┌─────────┐ ░ ┌─────┐┌───┐        \n",
      "qr_0: ┤ H ├──■──┤ Rx(0.2) ├─░─┤ Sdg ├┤ H ├──■─────\n",
      "      └───┘┌─┴─┐└─────────┘ ░ ├─────┤├───┤┌─┴─┐┌─┐\n",
      "qr_1: ─────┤ X ├────────────░─┤ Sdg ├┤ H ├┤ X ├┤M├\n",
      "           └───┘            ░ └─────┘└───┘└───┘└╥┘\n",
      "cr: 1/══════════════════════════════════════════╩═\n",
      "                                                0 \n",
      "Quantum circuit for measurment of ZZ\n",
      "      ┌───┐     ┌─────────┐ ░         \n",
      "qr_0: ┤ H ├──■──┤ Rx(0.2) ├─░───■─────\n",
      "      └───┘┌─┴─┐└─────────┘ ░ ┌─┴─┐┌─┐\n",
      "qr_1: ─────┤ X ├────────────░─┤ X ├┤M├\n",
      "           └───┘            ░ └───┘└╥┘\n",
      "cr: 1/══════════════════════════════╩═\n",
      "                                    0 \n",
      "Quantum circuit for measurment of XX\n",
      "      ┌───┐     ┌─────────┐ ░ ┌───┐        \n",
      "qr_0: ┤ H ├──■──┤ Rx(0.2) ├─░─┤ H ├──■─────\n",
      "      └───┘┌─┴─┐└─────────┘ ░ ├───┤┌─┴─┐┌─┐\n",
      "qr_1: ─────┤ X ├────────────░─┤ H ├┤ X ├┤M├\n",
      "           └───┘            ░ └───┘└───┘└╥┘\n",
      "cr: 1/═══════════════════════════════════╩═\n",
      "                                         0 \n"
     ]
    }
   ],
   "source": [
    "theta = 0.2\n",
    "energy, qc_list = vqe(theta)\n",
    "\n",
    "for op in ['YY', 'ZZ', 'XX']:\n",
    "    print(f\"Quantum circuit for measurment of {op}\")\n",
    "    print(qc_list[op].draw())"
   ]
  },
  {
   "cell_type": "markdown",
   "metadata": {},
   "source": [
    "At $\\theta$ = 0.2 Energy $\\approx$ 0.98. But we need lowest energy of this system, i.e the lowest eigenvalue of the hamiltonian.\n",
    "\n",
    "We will use the optimizer for this minimization procedure.\n",
    "\n",
    "## Using an optimizer"
   ]
  },
  {
   "cell_type": "code",
   "execution_count": 47,
   "metadata": {},
   "outputs": [
    {
     "data": {
      "text/plain": [
       " message: Solution found.\n",
       " success: True\n",
       "  status: 0\n",
       "     fun: -1.0\n",
       "       x: 3.1415866524216884\n",
       "     nit: 29\n",
       "    nfev: 29"
      ]
     },
     "execution_count": 47,
     "metadata": {},
     "output_type": "execute_result"
    }
   ],
   "source": [
    "minimize_scalar(vqe, args=(False), bounds=(0, pi), method='bounded')"
   ]
  },
  {
   "cell_type": "code",
   "execution_count": 48,
   "metadata": {},
   "outputs": [
    {
     "name": "stdout",
     "output_type": "stream",
     "text": [
      "Mean values from measurment results: \n",
      "\n",
      "Theta   Energy       XX        YY         ZZ\n",
      "3.1199    -0.999878   1.000000    0.999756   -1.000000\n"
     ]
    }
   ],
   "source": [
    "lowest_eigen_val, _ = vqe(3.1199)"
   ]
  },
  {
   "cell_type": "markdown",
   "metadata": {},
   "source": [
    "So the lowest hamiltonian is given by $$ H _ {\\theta = 3.1199} = 1/2 (1 + <ZZ> + <XX> + <YY>) = -.99 \\approx -1 $$ "
   ]
  },
  {
   "cell_type": "code",
   "execution_count": 52,
   "metadata": {},
   "outputs": [
    {
     "name": "stdout",
     "output_type": "stream",
     "text": [
      " Using classical method we get -1.0 and from quantum vqe method -0.9998779296875\n"
     ]
    }
   ],
   "source": [
    "print(f\" Using classical method we get {min_val_for_hamiltonian.eigenvalue} and from quantum vqe method {lowest_eigen_val}\")"
   ]
  },
  {
   "cell_type": "markdown",
   "metadata": {},
   "source": [
    "## Analysis"
   ]
  },
  {
   "cell_type": "code",
   "execution_count": 15,
   "metadata": {},
   "outputs": [
    {
     "name": "stdout",
     "output_type": "stream",
     "text": [
      "Mean values from measurment results: \n",
      "\n",
      "Theta: Energy XX YY ZZ\n",
      " 1.5707963267948966  0.00244140625 1.0 0.00048828125 0.00537109375\n"
     ]
    },
    {
     "ename": "ValueError",
     "evalue": "setting an array element with a sequence.",
     "output_type": "error",
     "traceback": [
      "\u001b[0;31m---------------------------------------------------------------------------\u001b[0m",
      "\u001b[0;31mTypeError\u001b[0m                                 Traceback (most recent call last)",
      "\u001b[0;31mTypeError\u001b[0m: float() argument must be a string or a real number, not 'tuple'",
      "\nThe above exception was the direct cause of the following exception:\n",
      "\u001b[0;31mValueError\u001b[0m                                Traceback (most recent call last)",
      "\u001b[1;32m/Users/toberoi/VQA/vqe2x2.ipynb Cell 23\u001b[0m line \u001b[0;36m1\n\u001b[1;32m     <a href='vscode-notebook-cell:/Users/toberoi/VQA/vqe2x2.ipynb#X30sZmlsZQ%3D%3D?line=9'>10</a>\u001b[0m theta2 \u001b[39m=\u001b[39m np\u001b[39m.\u001b[39mlinspace(\u001b[39m0.0\u001b[39m, \u001b[39m2\u001b[39m\u001b[39m*\u001b[39mnp\u001b[39m.\u001b[39mpi, \u001b[39m20\u001b[39m)\n\u001b[1;32m     <a href='vscode-notebook-cell:/Users/toberoi/VQA/vqe2x2.ipynb#X30sZmlsZQ%3D%3D?line=11'>12</a>\u001b[0m X, Y \u001b[39m=\u001b[39m np\u001b[39m.\u001b[39mmeshgrid(theta1, theta2)\n\u001b[0;32m---> <a href='vscode-notebook-cell:/Users/toberoi/VQA/vqe2x2.ipynb#X30sZmlsZQ%3D%3D?line=12'>13</a>\u001b[0m Z \u001b[39m=\u001b[39m energy_expectation(X, Y)\n",
      "\u001b[1;32m/Users/toberoi/VQA/vqe2x2.ipynb Cell 23\u001b[0m line \u001b[0;36m6\n\u001b[1;32m      <a href='vscode-notebook-cell:/Users/toberoi/VQA/vqe2x2.ipynb#X30sZmlsZQ%3D%3D?line=3'>4</a>\u001b[0m     \u001b[39mfor\u001b[39;00m ind, theta1 \u001b[39min\u001b[39;00m \u001b[39menumerate\u001b[39m(thetas):\n\u001b[1;32m      <a href='vscode-notebook-cell:/Users/toberoi/VQA/vqe2x2.ipynb#X30sZmlsZQ%3D%3D?line=4'>5</a>\u001b[0m         params \u001b[39m=\u001b[39m np\u001b[39m.\u001b[39marray([np\u001b[39m.\u001b[39mpi\u001b[39m/\u001b[39m\u001b[39m2\u001b[39m, np\u001b[39m.\u001b[39mpi, theta1, y[idx][ind]])\n\u001b[0;32m----> <a href='vscode-notebook-cell:/Users/toberoi/VQA/vqe2x2.ipynb#X30sZmlsZQ%3D%3D?line=5'>6</a>\u001b[0m         energy[idx][ind] \u001b[39m=\u001b[39m vqe(params[\u001b[39m0\u001b[39m])\n\u001b[1;32m      <a href='vscode-notebook-cell:/Users/toberoi/VQA/vqe2x2.ipynb#X30sZmlsZQ%3D%3D?line=6'>7</a>\u001b[0m \u001b[39mreturn\u001b[39;00m energy\n",
      "\u001b[0;31mValueError\u001b[0m: setting an array element with a sequence."
     ]
    }
   ],
   "source": [
    "def energy_expectation(x, y):\n",
    "    energy = np.zeros(x.shape)\n",
    "    for idx, thetas in enumerate(x):\n",
    "        for ind, theta1 in enumerate(thetas):\n",
    "            params = np.array([np.pi/2, np.pi, theta1, y[idx][ind]])\n",
    "            energy[idx][ind] = vqe(params[0])\n",
    "    return energy\n",
    "\n",
    "theta1 = np.linspace(0.0, 2*np.pi, 20)\n",
    "theta2 = np.linspace(0.0, 2*np.pi, 20)\n",
    "\n",
    "X, Y = np.meshgrid(theta1, theta2)\n",
    "Z = energy_expectation(X, Y)"
   ]
  },
  {
   "cell_type": "code",
   "execution_count": null,
   "metadata": {},
   "outputs": [],
   "source": [
    "fig = plt.figure()\n",
    "ax = plt.axes(projection='3d')\n",
    "ax.contour3D(X, Y, Z, 50, cmap=\"summer\")\n",
    "ax.set_xlabel('theta_1')\n",
    "ax.set_ylabel('theta_2')\n",
    "ax.set_zlabel('Expectation Value');\n",
    "plt.show()"
   ]
  }
 ],
 "metadata": {
  "kernelspec": {
   "display_name": "Python 3",
   "language": "python",
   "name": "python3"
  },
  "language_info": {
   "codemirror_mode": {
    "name": "ipython",
    "version": 3
   },
   "file_extension": ".py",
   "mimetype": "text/x-python",
   "name": "python",
   "nbconvert_exporter": "python",
   "pygments_lexer": "ipython3",
   "version": "3.11.5"
  },
  "orig_nbformat": 4
 },
 "nbformat": 4,
 "nbformat_minor": 2
}
