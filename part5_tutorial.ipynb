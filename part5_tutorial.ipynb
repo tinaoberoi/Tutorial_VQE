{
 "cells": [
  {
   "cell_type": "markdown",
   "metadata": {},
   "source": [
    "# Solving QAOA\n",
    "\n",
    "![](./img/stop_meme.webp)\n",
    "\n",
    "Before we solve QAOA its important to understand few important concepts\n",
    "\n",
    "## Concept1 : Matrix exponential\n",
    " For matrix M\n",
    "$$ \n",
    " e^M  = \\sum_{k=0}^{\\infty} \\frac{1}{k!} M^k\n",
    "$$\n",
    "\n",
    "And for Pauli Matrix Z, X, and Y\n",
    "\n",
    "$$\n",
    " e^{i\\theta X} = R_X(2\\theta) = \\left(\\begin{array}{cc} \n",
    "    \\cos (\\theta) & -i\\sin (\\theta)\\\\\n",
    "   -i\\sin (\\theta) & \\cos (\\theta)\n",
    "    \\end{array}\\right)\n",
    "$$\n",
    "\n",
    "$$\n",
    " e^{i\\theta Y} = R_Y(2\\theta) = \\left(\\begin{array}{cc} \n",
    "    \\cos (\\theta) & -\\sin (\\theta)\\\\\n",
    "   \\sin (\\theta) & \\cos (\\theta)\n",
    "    \\end{array}\\right)\n",
    "$$\n",
    "\n",
    "$$\n",
    " e^{i\\theta Y} = R_Y(2\\theta) = \\left(\\begin{array}{cc} \n",
    "    e^{-i\\theta} & 0\\\\\n",
    "   0 & e^{-i\\theta}\n",
    "    \\end{array}\\right)\n",
    "$$\n",
    "\n",
    "Thus for $U_c = e^{-i\\gamma H_c}$ , using $H_c$ from general QUBO implementation in part4\n",
    "\n",
    "$$\n",
    "e^{-i\\gamma H_c} = \\prod_{i,j=1}^{n} R_{Z_iZ_j} (\\frac{Q_{ij}\\gamma}{4})\\prod_{i=1}^{n} R_{Z_i}(\\frac{r}{2} (c_i + \\sum_{j=1}^{n}Q_{ij}))\n",
    "$$\n",
    "\n"
   ]
  },
  {
   "cell_type": "code",
   "execution_count": null,
   "metadata": {},
   "outputs": [],
   "source": []
  }
 ],
 "metadata": {
  "language_info": {
   "name": "python"
  }
 },
 "nbformat": 4,
 "nbformat_minor": 2
}
